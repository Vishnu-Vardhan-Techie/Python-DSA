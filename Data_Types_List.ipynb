{
  "nbformat": 4,
  "nbformat_minor": 0,
  "metadata": {
    "colab": {
      "provenance": [],
      "authorship_tag": "ABX9TyO4ex+0sFN1RWbHhHxeSaYX",
      "include_colab_link": true
    },
    "kernelspec": {
      "name": "python3",
      "display_name": "Python 3"
    },
    "language_info": {
      "name": "python"
    }
  },
  "cells": [
    {
      "cell_type": "markdown",
      "metadata": {
        "id": "view-in-github",
        "colab_type": "text"
      },
      "source": [
        "<a href=\"https://colab.research.google.com/github/Vishnu-Vardhan-Techie/Python-DSA/blob/main/Data_Types_List.ipynb\" target=\"_parent\"><img src=\"https://colab.research.google.com/assets/colab-badge.svg\" alt=\"Open In Colab\"/></a>"
      ]
    },
    {
      "cell_type": "code",
      "execution_count": 1,
      "metadata": {
        "id": "wd5nH4PWfzLy"
      },
      "outputs": [],
      "source": [
        "#numerical\n",
        "x=5"
      ]
    },
    {
      "cell_type": "code",
      "source": [
        "price = 26.25\n",
        "print(price)"
      ],
      "metadata": {
        "colab": {
          "base_uri": "https://localhost:8080/"
        },
        "id": "RpGumySPggi7",
        "outputId": "ef127f98-99a5-4f9f-e48c-5a39ffe30f70"
      },
      "execution_count": 2,
      "outputs": [
        {
          "output_type": "stream",
          "name": "stdout",
          "text": [
            "26.25\n"
          ]
        }
      ]
    },
    {
      "cell_type": "code",
      "source": [
        "num =3e6\n",
        "print(num)"
      ],
      "metadata": {
        "colab": {
          "base_uri": "https://localhost:8080/"
        },
        "id": "cswuEg1yhIfJ",
        "outputId": "f8a679bc-4e2e-4421-b9c2-6ae8bc9a7950"
      },
      "execution_count": 3,
      "outputs": [
        {
          "output_type": "stream",
          "name": "stdout",
          "text": [
            "3000000.0\n"
          ]
        }
      ]
    },
    {
      "cell_type": "code",
      "source": [
        "z=4+5j\n",
        "print(z)"
      ],
      "metadata": {
        "colab": {
          "base_uri": "https://localhost:8080/"
        },
        "id": "Skz6IWmChc0a",
        "outputId": "b0780e15-0a8c-4246-ede1-f5834056981c"
      },
      "execution_count": 4,
      "outputs": [
        {
          "output_type": "stream",
          "name": "stdout",
          "text": [
            "(4+5j)\n"
          ]
        }
      ]
    },
    {
      "cell_type": "code",
      "source": [
        "print(type(z))"
      ],
      "metadata": {
        "colab": {
          "base_uri": "https://localhost:8080/"
        },
        "id": "fQdU1F6ghl3P",
        "outputId": "35399dbe-82c5-43e0-d88d-e84ff29abc26"
      },
      "execution_count": 5,
      "outputs": [
        {
          "output_type": "stream",
          "name": "stdout",
          "text": [
            "<class 'complex'>\n"
          ]
        }
      ]
    },
    {
      "cell_type": "code",
      "source": [
        "print(abs(-10))"
      ],
      "metadata": {
        "colab": {
          "base_uri": "https://localhost:8080/"
        },
        "id": "t-eYPp-xhpaD",
        "outputId": "17fafff6-a31d-4e76-ccbd-d1d6e7ca815a"
      },
      "execution_count": 6,
      "outputs": [
        {
          "output_type": "stream",
          "name": "stdout",
          "text": [
            "10\n"
          ]
        }
      ]
    },
    {
      "cell_type": "code",
      "source": [
        "print(pow(5,2))"
      ],
      "metadata": {
        "colab": {
          "base_uri": "https://localhost:8080/"
        },
        "id": "GCZRofQUh-6W",
        "outputId": "20b442db-c227-4f11-bc12-7b31c5c5925f"
      },
      "execution_count": 8,
      "outputs": [
        {
          "output_type": "stream",
          "name": "stdout",
          "text": [
            "25\n"
          ]
        }
      ]
    },
    {
      "cell_type": "code",
      "source": [
        "print(round(4.75))\n",
        "print(round(4.5))"
      ],
      "metadata": {
        "colab": {
          "base_uri": "https://localhost:8080/"
        },
        "id": "9IjdnFdIiHGI",
        "outputId": "0143106b-81f7-41e3-fdb9-d1f34ba4e2b8"
      },
      "execution_count": 9,
      "outputs": [
        {
          "output_type": "stream",
          "name": "stdout",
          "text": [
            "5\n",
            "4\n"
          ]
        }
      ]
    },
    {
      "cell_type": "code",
      "source": [
        "nums =[3,1,5,7,9,1]\n",
        "print(min(nums))\n",
        "print(max(nums))\n",
        "print(sum(nums))"
      ],
      "metadata": {
        "colab": {
          "base_uri": "https://localhost:8080/"
        },
        "id": "HcpcHBayiVm8",
        "outputId": "6b80372a-86dd-4ca8-9eea-ea5c66577d40"
      },
      "execution_count": 10,
      "outputs": [
        {
          "output_type": "stream",
          "name": "stdout",
          "text": [
            "1\n",
            "9\n",
            "26\n"
          ]
        }
      ]
    },
    {
      "cell_type": "markdown",
      "source": [
        "Learning List"
      ],
      "metadata": {
        "id": "7j6CudfKjE5q"
      }
    },
    {
      "cell_type": "code",
      "source": [
        "students=[\"Mohan\",\"Vishwa\",\"Shivani\",\"Sakshi\"]\n",
        "print(students)\n",
        "print(type(students))"
      ],
      "metadata": {
        "colab": {
          "base_uri": "https://localhost:8080/"
        },
        "id": "3IljsjWyjI7I",
        "outputId": "e6361bcf-3f0f-4495-af4f-f4e3b78ba3fa"
      },
      "execution_count": 11,
      "outputs": [
        {
          "output_type": "stream",
          "name": "stdout",
          "text": [
            "['Mohan', 'Vishwa', 'Shivani', 'Sakshi']\n",
            "<class 'list'>\n"
          ]
        }
      ]
    },
    {
      "cell_type": "code",
      "source": [
        "# Constructor\n",
        "list2=list(students)\n",
        "print(list2)"
      ],
      "metadata": {
        "colab": {
          "base_uri": "https://localhost:8080/"
        },
        "id": "uTRnlFV6lbuB",
        "outputId": "5001bb7e-3456-4e48-bb32-a161c5142b48"
      },
      "execution_count": 13,
      "outputs": [
        {
          "output_type": "stream",
          "name": "stdout",
          "text": [
            "['Mohan', 'Vishwa', 'Shivani', 'Sakshi']\n"
          ]
        }
      ]
    },
    {
      "cell_type": "code",
      "source": [
        "# String\n",
        "list3=list(\"Vishwa\")\n",
        "print(list3)"
      ],
      "metadata": {
        "colab": {
          "base_uri": "https://localhost:8080/"
        },
        "id": "QSCUZo6vloH1",
        "outputId": "7dcd1d95-68d0-4795-c654-54b29b783828"
      },
      "execution_count": 16,
      "outputs": [
        {
          "output_type": "stream",
          "name": "stdout",
          "text": [
            "['V', 'i', 's', 'h', 'w', 'a']\n"
          ]
        }
      ]
    },
    {
      "cell_type": "code",
      "source": [
        "# list > tuple\n",
        "list4=list((3,4,\"Vishwa\"))\n",
        "print(list4)"
      ],
      "metadata": {
        "colab": {
          "base_uri": "https://localhost:8080/"
        },
        "id": "iBFQwphKmHpe",
        "outputId": "edd5c005-2524-4ed7-f06b-a7e95a0a7d9f"
      },
      "execution_count": 17,
      "outputs": [
        {
          "output_type": "stream",
          "name": "stdout",
          "text": [
            "[3, 4, 'Vishwa']\n"
          ]
        }
      ]
    },
    {
      "cell_type": "code",
      "source": [
        "# Accessing elements in list\n",
        "l1=[1,3,9,2,5,6,7]\n",
        "print(l1[3])\n",
        "print(l1[-6])"
      ],
      "metadata": {
        "colab": {
          "base_uri": "https://localhost:8080/"
        },
        "id": "lVlbro1DwmK5",
        "outputId": "f4c48b1f-8653-4204-ffa2-babef3be6c65"
      },
      "execution_count": 18,
      "outputs": [
        {
          "output_type": "stream",
          "name": "stdout",
          "text": [
            "2\n",
            "3\n"
          ]
        }
      ]
    },
    {
      "cell_type": "code",
      "source": [
        "arr=[3,2,1,5,9]\n",
        "arr.append(11)\n",
        "print(arr)"
      ],
      "metadata": {
        "colab": {
          "base_uri": "https://localhost:8080/"
        },
        "id": "zWcAlUDZxXrm",
        "outputId": "3fc4754e-d1d0-4734-a7ae-95a7e3454ce9"
      },
      "execution_count": 19,
      "outputs": [
        {
          "output_type": "stream",
          "name": "stdout",
          "text": [
            "[3, 2, 1, 5, 9, 11]\n"
          ]
        }
      ]
    },
    {
      "cell_type": "code",
      "source": [
        "arr.insert(3,16)\n",
        "print(arr)"
      ],
      "metadata": {
        "colab": {
          "base_uri": "https://localhost:8080/"
        },
        "id": "_HtL8vJmxlmN",
        "outputId": "cb2b48d2-caf7-4d16-b623-554949ac84c0"
      },
      "execution_count": 20,
      "outputs": [
        {
          "output_type": "stream",
          "name": "stdout",
          "text": [
            "[3, 2, 1, 16, 5, 9, 11]\n"
          ]
        }
      ]
    },
    {
      "cell_type": "code",
      "source": [
        "l1=[1,2]\n",
        "l2=[\"vishwa\",\"mohan\"]\n",
        "l1.extend(l2)\n",
        "print(l1)"
      ],
      "metadata": {
        "colab": {
          "base_uri": "https://localhost:8080/"
        },
        "id": "snQOY9WE36wM",
        "outputId": "204167f6-80d6-46b0-b2fb-23fef23a233c"
      },
      "execution_count": 21,
      "outputs": [
        {
          "output_type": "stream",
          "name": "stdout",
          "text": [
            "[1, 2, 'vishwa', 'mohan']\n"
          ]
        }
      ]
    },
    {
      "cell_type": "code",
      "source": [
        "#Remove elements from list\n",
        "arr=[3,1,7,9,11,23,45,7]\n",
        "arr.remove(7)\n",
        "print(arr)"
      ],
      "metadata": {
        "colab": {
          "base_uri": "https://localhost:8080/"
        },
        "id": "hi3Svdch4ep_",
        "outputId": "a1f3a698-16cf-429e-9005-2aefaef21e41"
      },
      "execution_count": 23,
      "outputs": [
        {
          "output_type": "stream",
          "name": "stdout",
          "text": [
            "[3, 1, 9, 11, 23, 45, 7]\n"
          ]
        }
      ]
    },
    {
      "cell_type": "code",
      "source": [
        "arr=[3,1,7,9,11,23,45,7]\n",
        "arr.pop(3)\n",
        "print(arr)"
      ],
      "metadata": {
        "colab": {
          "base_uri": "https://localhost:8080/"
        },
        "outputId": "368b189d-faa2-4a4e-c2c0-454564e8b636",
        "id": "rubMLg8S5zwI"
      },
      "execution_count": 26,
      "outputs": [
        {
          "output_type": "stream",
          "name": "stdout",
          "text": [
            "[3, 1, 7, 11, 23, 45, 7]\n"
          ]
        }
      ]
    },
    {
      "cell_type": "code",
      "source": [
        "student=['a', 'b', 'c', 'd', 'e']\n",
        "student[3]='z'\n",
        "print(student)"
      ],
      "metadata": {
        "colab": {
          "base_uri": "https://localhost:8080/"
        },
        "id": "V3nja06E6CZd",
        "outputId": "4b28fa00-720c-4597-c328-103a8ade67e5"
      },
      "execution_count": 27,
      "outputs": [
        {
          "output_type": "stream",
          "name": "stdout",
          "text": [
            "['a', 'b', 'c', 'z', 'e']\n"
          ]
        }
      ]
    },
    {
      "cell_type": "code",
      "source": [
        "student[1:4]='m','n','o'\n",
        "print(student)"
      ],
      "metadata": {
        "colab": {
          "base_uri": "https://localhost:8080/"
        },
        "id": "F1SWI4aO7oF3",
        "outputId": "3edba703-1474-4e32-f9d2-22316c3bc2b5"
      },
      "execution_count": 43,
      "outputs": [
        {
          "output_type": "stream",
          "name": "stdout",
          "text": [
            "['a', 'm', 'n', 'o']\n"
          ]
        }
      ]
    },
    {
      "cell_type": "code",
      "source": [
        "l10=[1,2,3,4,5]\n",
        "l10.reverse()\n",
        "print(l10)"
      ],
      "metadata": {
        "colab": {
          "base_uri": "https://localhost:8080/"
        },
        "id": "lvHBpPao8gG-",
        "outputId": "821b5f02-cf3b-48b9-e5b6-54568e121d36"
      },
      "execution_count": 45,
      "outputs": [
        {
          "output_type": "stream",
          "name": "stdout",
          "text": [
            "[5, 4, 3, 2, 1]\n"
          ]
        }
      ]
    },
    {
      "cell_type": "code",
      "source": [
        "l10_copy=l10.copy()\n",
        "print(l10_copy)\n",
        "\n",
        "print(id(l10_copy), id(l10))"
      ],
      "metadata": {
        "colab": {
          "base_uri": "https://localhost:8080/"
        },
        "id": "K9w7EnPO8tIF",
        "outputId": "65cb0135-e653-4e9f-b6be-7f1c96450343"
      },
      "execution_count": 48,
      "outputs": [
        {
          "output_type": "stream",
          "name": "stdout",
          "text": [
            "[5, 4, 3, 2, 1]\n",
            "133729322898688 133728665447360\n"
          ]
        }
      ]
    },
    {
      "cell_type": "code",
      "source": [
        "l10.sort()\n",
        "print(l10)"
      ],
      "metadata": {
        "colab": {
          "base_uri": "https://localhost:8080/"
        },
        "id": "1F_jAQeQ9GeJ",
        "outputId": "a12e4c70-6df5-4d7b-b9a8-d1a04f8a38b9"
      },
      "execution_count": 49,
      "outputs": [
        {
          "output_type": "stream",
          "name": "stdout",
          "text": [
            "[1, 2, 3, 4, 5]\n"
          ]
        }
      ]
    }
  ]
}