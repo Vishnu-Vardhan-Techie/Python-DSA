{
  "nbformat": 4,
  "nbformat_minor": 0,
  "metadata": {
    "colab": {
      "provenance": [],
      "authorship_tag": "ABX9TyOFEzFfldqM4DMHb+7aDv1z",
      "include_colab_link": true
    },
    "kernelspec": {
      "name": "python3",
      "display_name": "Python 3"
    },
    "language_info": {
      "name": "python"
    }
  },
  "cells": [
    {
      "cell_type": "markdown",
      "metadata": {
        "id": "view-in-github",
        "colab_type": "text"
      },
      "source": [
        "<a href=\"https://colab.research.google.com/github/Vishnu-Vardhan-Techie/Python-DSA/blob/main/Data_Type_Dictionary_%26_Set.ipynb\" target=\"_parent\"><img src=\"https://colab.research.google.com/assets/colab-badge.svg\" alt=\"Open In Colab\"/></a>"
      ]
    },
    {
      "cell_type": "code",
      "execution_count": 2,
      "metadata": {
        "colab": {
          "base_uri": "https://localhost:8080/"
        },
        "id": "sTi29W4PsEna",
        "outputId": "a57a8735-a8f0-4fbc-f6dd-2c6a99afcb39"
      },
      "outputs": [
        {
          "output_type": "stream",
          "name": "stdout",
          "text": [
            "{'name': 'Vishwa', 'age': 21, 'city': 'Bangalore'}\n",
            "<class 'dict'>\n"
          ]
        }
      ],
      "source": [
        "#Dictionary\n",
        "students_details = {'name':'Vishwa' , 'age':21, 'city':\"Bangalore\"}\n",
        "print(students_details)\n",
        "print(type(students_details))"
      ]
    },
    {
      "cell_type": "code",
      "source": [
        "dict1={1:\"Vishwa\" , 2:\"Mohan\" , True:\"Love\"}\n",
        "print(dict1) #True = 1 (default)"
      ],
      "metadata": {
        "colab": {
          "base_uri": "https://localhost:8080/"
        },
        "id": "FGoGA59LFdIO",
        "outputId": "43a38254-763b-4dce-eabd-d56bef99ee86"
      },
      "execution_count": 4,
      "outputs": [
        {
          "output_type": "stream",
          "name": "stdout",
          "text": [
            "{1: 'Love', 2: 'Mohan'}\n"
          ]
        }
      ]
    },
    {
      "cell_type": "code",
      "source": [
        "#Dictionary constructor methods\n",
        "dict1=dict(name=\"vishwa\", age=20, True=\"Love\")"
      ],
      "metadata": {
        "colab": {
          "base_uri": "https://localhost:8080/",
          "height": 106
        },
        "id": "RCeZ3OWiFxp0",
        "outputId": "aa3ee36b-e883-4550-bcdc-267a7738bdb8"
      },
      "execution_count": 6,
      "outputs": [
        {
          "output_type": "error",
          "ename": "SyntaxError",
          "evalue": "cannot assign to True (ipython-input-6-2697731807.py, line 2)",
          "traceback": [
            "\u001b[0;36m  File \u001b[0;32m\"/tmp/ipython-input-6-2697731807.py\"\u001b[0;36m, line \u001b[0;32m2\u001b[0m\n\u001b[0;31m    dict1=dict(name=\"vishwa\", age=20, True=\"Love\")\u001b[0m\n\u001b[0m                                      ^\u001b[0m\n\u001b[0;31mSyntaxError\u001b[0m\u001b[0;31m:\u001b[0m cannot assign to True\n"
          ]
        }
      ]
    },
    {
      "cell_type": "code",
      "source": [
        "dict1 = dict(name=\"vishwa\", age=\"Mohan\")\n",
        "print(dict1)\n",
        "print(type(dict1))"
      ],
      "metadata": {
        "colab": {
          "base_uri": "https://localhost:8080/"
        },
        "id": "HcJ07XCpIRmP",
        "outputId": "2724006b-ebe8-4c22-9fc6-b5d9108e5b68"
      },
      "execution_count": 9,
      "outputs": [
        {
          "output_type": "stream",
          "name": "stdout",
          "text": [
            "{'name': 'vishwa', 'age': 'Mohan'}\n",
            "<class 'dict'>\n"
          ]
        }
      ]
    },
    {
      "cell_type": "code",
      "source": [
        "#Access the elements of the dic\n",
        "students_details = {'name':'vishwa' , 'age':21, 'city':\"Bangalore\"}\n",
        "print(students_details['name'])\n",
        "print(students_details['city'])\n",
        "print(students_details['age'])"
      ],
      "metadata": {
        "colab": {
          "base_uri": "https://localhost:8080/"
        },
        "id": "67L5y3i6IsVs",
        "outputId": "2790d83b-82ac-48a7-f644-4991cf16188e"
      },
      "execution_count": 11,
      "outputs": [
        {
          "output_type": "stream",
          "name": "stdout",
          "text": [
            "vishwa\n",
            "Bangalore\n",
            "21\n"
          ]
        }
      ]
    },
    {
      "cell_type": "code",
      "source": [
        "print(students_details.keys())\n",
        "print(students_details.values())\n",
        "print(students_details.items())"
      ],
      "metadata": {
        "colab": {
          "base_uri": "https://localhost:8080/"
        },
        "id": "i3HHikznJYcP",
        "outputId": "6d7cfcc4-6bf2-45d1-ca5d-dc3664bd1067"
      },
      "execution_count": 14,
      "outputs": [
        {
          "output_type": "stream",
          "name": "stdout",
          "text": [
            "dict_keys(['name', 'age', 'city'])\n",
            "dict_values(['vishwa', 21, 'Bangalore'])\n",
            "dict_items([('name', 'vishwa'), ('age', 21), ('city', 'Bangalore')])\n"
          ]
        }
      ]
    },
    {
      "cell_type": "code",
      "source": [
        "students_details = {'name':'vishwa' , 'age':21, 'city':\"Bangalore\"}\n",
        "students_details['Country'] = \"India\"\n",
        "print(students_details)"
      ],
      "metadata": {
        "colab": {
          "base_uri": "https://localhost:8080/"
        },
        "outputId": "2688bc12-33c7-46de-a2a8-12048dfdb916",
        "id": "2b5X5PkgLvEw"
      },
      "execution_count": 15,
      "outputs": [
        {
          "output_type": "stream",
          "name": "stdout",
          "text": [
            "{'name': 'vishwa', 'age': 21, 'city': 'Bangalore', 'Country': 'India'}\n"
          ]
        }
      ]
    },
    {
      "cell_type": "code",
      "source": [
        "students_details= {'name':'Vishwa' , 'age':21, 'city':'Bangalore'}\n",
        "marks_details = {'English':100, 'Maths':78, 'Science':92}\n",
        "students_details.update(marks_details)\n",
        "print(students_details)"
      ],
      "metadata": {
        "colab": {
          "base_uri": "https://localhost:8080/"
        },
        "id": "r8HaLa6AMKTQ",
        "outputId": "7d92e001-c6b6-44db-dbe6-752c1c45b6c1"
      },
      "execution_count": 16,
      "outputs": [
        {
          "output_type": "stream",
          "name": "stdout",
          "text": [
            "{'name': 'Vishwa', 'age': 21, 'city': 'Bangalore', 'English': 100, 'Maths': 78, 'Science': 92}\n"
          ]
        }
      ]
    },
    {
      "cell_type": "code",
      "source": [
        "#Remove the elements from the dictionary\n",
        "print(students_details.pop('city'))\n",
        "print(students_details)"
      ],
      "metadata": {
        "colab": {
          "base_uri": "https://localhost:8080/"
        },
        "id": "sBlrm0RpM-w7",
        "outputId": "76e65e8f-ada5-4ae3-d5f7-7be127acdf24"
      },
      "execution_count": 17,
      "outputs": [
        {
          "output_type": "stream",
          "name": "stdout",
          "text": [
            "Bangalore\n",
            "{'name': 'Vishwa', 'age': 21, 'English': 100, 'Maths': 78, 'Science': 92}\n"
          ]
        }
      ]
    },
    {
      "cell_type": "code",
      "source": [
        "print(students_details.popitem())\n",
        "print(students_details)"
      ],
      "metadata": {
        "colab": {
          "base_uri": "https://localhost:8080/"
        },
        "id": "4qN2icGGN2vr",
        "outputId": "c9deeb62-34c4-4209-f023-2d17323b8268"
      },
      "execution_count": 18,
      "outputs": [
        {
          "output_type": "stream",
          "name": "stdout",
          "text": [
            "('Science', 92)\n",
            "{'name': 'Vishwa', 'age': 21, 'English': 100, 'Maths': 78}\n"
          ]
        }
      ]
    },
    {
      "cell_type": "code",
      "source": [
        "del students_details['age']\n",
        "print(students_details)"
      ],
      "metadata": {
        "colab": {
          "base_uri": "https://localhost:8080/"
        },
        "id": "HKJrqKN6OHrL",
        "outputId": "d95911b5-6a08-4230-ffe7-86a7de6db915"
      },
      "execution_count": 19,
      "outputs": [
        {
          "output_type": "stream",
          "name": "stdout",
          "text": [
            "{'name': 'Vishwa', 'English': 100, 'Maths': 78}\n"
          ]
        }
      ]
    },
    {
      "cell_type": "code",
      "source": [
        "students_details.clear()\n",
        "print(students_details)"
      ],
      "metadata": {
        "colab": {
          "base_uri": "https://localhost:8080/"
        },
        "id": "X5zJ_ffDOR6_",
        "outputId": "f82da653-ee56-467e-8777-25fd2475597e"
      },
      "execution_count": 20,
      "outputs": [
        {
          "output_type": "stream",
          "name": "stdout",
          "text": [
            "{}\n"
          ]
        }
      ]
    },
    {
      "cell_type": "code",
      "source": [
        "#Set Data types\n",
        "my_set = {1,2,3,5}\n",
        "print(my_set)\n",
        "print(type(my_set))"
      ],
      "metadata": {
        "colab": {
          "base_uri": "https://localhost:8080/"
        },
        "id": "4ET4SjKfPTQq",
        "outputId": "5ce01133-403f-457e-cca7-f0ff7ba93164"
      },
      "execution_count": 22,
      "outputs": [
        {
          "output_type": "stream",
          "name": "stdout",
          "text": [
            "{1, 2, 3, 5}\n",
            "<class 'set'>\n"
          ]
        }
      ]
    },
    {
      "cell_type": "code",
      "source": [
        "s1 ={1,4,2,5,1,9,7,4,1}\n",
        "print(s1)"
      ],
      "metadata": {
        "colab": {
          "base_uri": "https://localhost:8080/"
        },
        "id": "EBSSK5-GPmRM",
        "outputId": "89b4abec-7815-4438-80f1-3f2e3504a57e"
      },
      "execution_count": 23,
      "outputs": [
        {
          "output_type": "stream",
          "name": "stdout",
          "text": [
            "{1, 2, 4, 5, 7, 9}\n"
          ]
        }
      ]
    },
    {
      "cell_type": "code",
      "source": [
        "s2 = set()\n",
        "print(s2)"
      ],
      "metadata": {
        "colab": {
          "base_uri": "https://localhost:8080/"
        },
        "id": "Rh8DJa6dQABR",
        "outputId": "5815533f-3412-42b9-b0f1-9f26730e1829"
      },
      "execution_count": 24,
      "outputs": [
        {
          "output_type": "stream",
          "name": "stdout",
          "text": [
            "set()\n"
          ]
        }
      ]
    },
    {
      "cell_type": "code",
      "source": [
        "s3 = set({5,6,7})\n",
        "print(s3)"
      ],
      "metadata": {
        "colab": {
          "base_uri": "https://localhost:8080/"
        },
        "id": "vWOPEsA1QHob",
        "outputId": "13e23a42-cc55-43c9-c6a5-5613c1aad0a3"
      },
      "execution_count": 25,
      "outputs": [
        {
          "output_type": "stream",
          "name": "stdout",
          "text": [
            "{5, 6, 7}\n"
          ]
        }
      ]
    },
    {
      "cell_type": "code",
      "source": [
        "#Add\n",
        "s = set()\n",
        "\n",
        "s.add(5)\n",
        "s.add(13)\n",
        "s.add(5)\n",
        "s.add(12)\n",
        "print(s)"
      ],
      "metadata": {
        "colab": {
          "base_uri": "https://localhost:8080/"
        },
        "id": "ahow0ZjbQOt_",
        "outputId": "a3e179ad-5653-4e99-8e04-3014e5b00eda"
      },
      "execution_count": 31,
      "outputs": [
        {
          "output_type": "stream",
          "name": "stdout",
          "text": [
            "{13, 12, 5}\n"
          ]
        }
      ]
    },
    {
      "cell_type": "code",
      "source": [
        "#Remove\n",
        "s1 ={3,9,7,4}\n",
        "print(s1.discard(7))\n",
        "print(s1)"
      ],
      "metadata": {
        "colab": {
          "base_uri": "https://localhost:8080/"
        },
        "id": "tw00PeuTQw5t",
        "outputId": "131d7c14-473b-421f-e896-38dbb8352ead"
      },
      "execution_count": 33,
      "outputs": [
        {
          "output_type": "stream",
          "name": "stdout",
          "text": [
            "None\n",
            "{9, 3, 4}\n"
          ]
        }
      ]
    },
    {
      "cell_type": "code",
      "source": [
        "fs = frozenset( [1,2,3] )\n",
        "print(fs)\n",
        "print(type(fs))"
      ],
      "metadata": {
        "colab": {
          "base_uri": "https://localhost:8080/"
        },
        "id": "K3FUmR5nSAbp",
        "outputId": "bdf0f7fe-1c2e-416a-8aaf-1c97829d9b30"
      },
      "execution_count": 37,
      "outputs": [
        {
          "output_type": "stream",
          "name": "stdout",
          "text": [
            "frozenset({1, 2, 3})\n",
            "<class 'frozenset'>\n"
          ]
        }
      ]
    },
    {
      "cell_type": "code",
      "source": [
        "fs2 = frozenset({1,2,3})\n",
        "print(fs2)"
      ],
      "metadata": {
        "colab": {
          "base_uri": "https://localhost:8080/"
        },
        "id": "6KdbgWANSWFS",
        "outputId": "8406ff0d-9eff-4abf-e7f4-ad2639818036"
      },
      "execution_count": 38,
      "outputs": [
        {
          "output_type": "stream",
          "name": "stdout",
          "text": [
            "frozenset({1, 2, 3})\n"
          ]
        }
      ]
    },
    {
      "cell_type": "code",
      "source": [
        "dict1 = {fs2 : \"Vishwa\"}\n",
        "print(dict1)"
      ],
      "metadata": {
        "colab": {
          "base_uri": "https://localhost:8080/"
        },
        "id": "yr-93acNTLDp",
        "outputId": "c0f8d3e8-646b-4890-8b19-1ce6525a6857"
      },
      "execution_count": 39,
      "outputs": [
        {
          "output_type": "stream",
          "name": "stdout",
          "text": [
            "{frozenset({1, 2, 3}): 'Vishwa'}\n"
          ]
        }
      ]
    },
    {
      "cell_type": "markdown",
      "source": [],
      "metadata": {
        "id": "dfvtM-mQSHpZ"
      }
    }
  ]
}