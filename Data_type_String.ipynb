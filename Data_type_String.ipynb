{
  "nbformat": 4,
  "nbformat_minor": 0,
  "metadata": {
    "colab": {
      "provenance": [],
      "authorship_tag": "ABX9TyN4fgd5DTnyXDwv6bANyrSX",
      "include_colab_link": true
    },
    "kernelspec": {
      "name": "python3",
      "display_name": "Python 3"
    },
    "language_info": {
      "name": "python"
    }
  },
  "cells": [
    {
      "cell_type": "markdown",
      "metadata": {
        "id": "view-in-github",
        "colab_type": "text"
      },
      "source": [
        "<a href=\"https://colab.research.google.com/github/Vishnu-Vardhan-Techie/Python-DSA/blob/main/Data_type_String.ipynb\" target=\"_parent\"><img src=\"https://colab.research.google.com/assets/colab-badge.svg\" alt=\"Open In Colab\"/></a>"
      ]
    },
    {
      "cell_type": "code",
      "execution_count": 2,
      "metadata": {
        "id": "J_cU1jQC_FvQ"
      },
      "outputs": [],
      "source": [
        "name='Vishnu'\n",
        "city=\"Chennai\"\n",
        "country='''India'''"
      ]
    },
    {
      "cell_type": "code",
      "source": [
        "message='''\n",
        "Hello! friends this my learning\n",
        "'''"
      ],
      "metadata": {
        "id": "seqEJNHuLyb7"
      },
      "execution_count": 3,
      "outputs": []
    },
    {
      "cell_type": "code",
      "source": [
        "name=\"Vishnu Vardhan\"\n",
        "print(name[3])"
      ],
      "metadata": {
        "colab": {
          "base_uri": "https://localhost:8080/",
          "height": 0
        },
        "id": "dipjuEl2L7S3",
        "outputId": "70434a5c-f892-46b3-ad24-09ba33291cc3"
      },
      "execution_count": 4,
      "outputs": [
        {
          "output_type": "stream",
          "name": "stdout",
          "text": [
            "h\n"
          ]
        }
      ]
    },
    {
      "cell_type": "code",
      "source": [
        "print(name[-12])"
      ],
      "metadata": {
        "colab": {
          "base_uri": "https://localhost:8080/",
          "height": 0
        },
        "id": "bls5VwTIMF0Y",
        "outputId": "f5474dd4-0bbe-46c7-bdde-5ce78038866c"
      },
      "execution_count": 5,
      "outputs": [
        {
          "output_type": "stream",
          "name": "stdout",
          "text": [
            "s\n"
          ]
        }
      ]
    },
    {
      "cell_type": "code",
      "source": [
        "# Concatenation\n",
        "first_name=\"vishnu\"\n",
        "last_name=\"vardhan\"\n",
        "full_name = first_name +\" \"+ last_name\n",
        "print(full_name)"
      ],
      "metadata": {
        "colab": {
          "base_uri": "https://localhost:8080/",
          "height": 0
        },
        "id": "pR73Gse6NuEx",
        "outputId": "99952f94-e36c-40f2-99e0-b924b431572d"
      },
      "execution_count": 6,
      "outputs": [
        {
          "output_type": "stream",
          "name": "stdout",
          "text": [
            "vishnu vardhan\n"
          ]
        }
      ]
    },
    {
      "cell_type": "code",
      "source": [
        "print(len(full_name))"
      ],
      "metadata": {
        "colab": {
          "base_uri": "https://localhost:8080/",
          "height": 0
        },
        "id": "-eUH-gdoOelz",
        "outputId": "fba8559b-bbc3-4a7a-87c9-64b34f4483ce"
      },
      "execution_count": 7,
      "outputs": [
        {
          "output_type": "stream",
          "name": "stdout",
          "text": [
            "14\n"
          ]
        }
      ]
    },
    {
      "cell_type": "code",
      "source": [
        "str='vishnu vardhan'\n",
        "print(str[2:5])"
      ],
      "metadata": {
        "colab": {
          "base_uri": "https://localhost:8080/",
          "height": 0
        },
        "id": "gexZD4FLOu46",
        "outputId": "d080bee8-4656-49ad-bca3-3ce0ea06341a"
      },
      "execution_count": 8,
      "outputs": [
        {
          "output_type": "stream",
          "name": "stdout",
          "text": [
            "shn\n"
          ]
        }
      ]
    },
    {
      "cell_type": "code",
      "source": [
        "print(str[:6])"
      ],
      "metadata": {
        "colab": {
          "base_uri": "https://localhost:8080/",
          "height": 0
        },
        "id": "D46MPHlvPhru",
        "outputId": "95315a6e-2674-4087-a9de-4b038daa9f4d"
      },
      "execution_count": 9,
      "outputs": [
        {
          "output_type": "stream",
          "name": "stdout",
          "text": [
            "vishnu\n"
          ]
        }
      ]
    },
    {
      "cell_type": "code",
      "source": [
        "print(str[:])"
      ],
      "metadata": {
        "colab": {
          "base_uri": "https://localhost:8080/",
          "height": 0
        },
        "id": "WkqMaw3NPtq4",
        "outputId": "75461c4f-58cc-4cda-e0d9-ec2585c5490e"
      },
      "execution_count": 10,
      "outputs": [
        {
          "output_type": "stream",
          "name": "stdout",
          "text": [
            "vishnu vardhan\n"
          ]
        }
      ]
    },
    {
      "cell_type": "code",
      "source": [
        "print(str[-9:-4])"
      ],
      "metadata": {
        "colab": {
          "base_uri": "https://localhost:8080/",
          "height": 0
        },
        "id": "wnzuC_5yPzWr",
        "outputId": "8212ee23-4271-4957-aa24-af8b708c7a72"
      },
      "execution_count": 11,
      "outputs": [
        {
          "output_type": "stream",
          "name": "stdout",
          "text": [
            "u var\n"
          ]
        }
      ]
    },
    {
      "cell_type": "code",
      "source": [
        "print(str[-9:8])"
      ],
      "metadata": {
        "colab": {
          "base_uri": "https://localhost:8080/",
          "height": 0
        },
        "id": "nYl23GGNP-w6",
        "outputId": "c5853e52-77a9-473e-b763-c38c3656a976"
      },
      "execution_count": 12,
      "outputs": [
        {
          "output_type": "stream",
          "name": "stdout",
          "text": [
            "u v\n"
          ]
        }
      ]
    },
    {
      "cell_type": "code",
      "source": [
        "str1='  vIshnu'\n",
        "print(str1.upper())\n",
        "print(str1.lower())\n",
        "print(str1.capitalize())\n",
        "print(str1.strip())"
      ],
      "metadata": {
        "colab": {
          "base_uri": "https://localhost:8080/",
          "height": 0
        },
        "id": "OnG5YvE1QOO1",
        "outputId": "af1018fa-72a4-4210-d258-705119387151"
      },
      "execution_count": 1,
      "outputs": [
        {
          "output_type": "stream",
          "name": "stdout",
          "text": [
            "  VISHNU\n",
            "  vishnu\n",
            "  vishnu\n",
            "vIshnu\n"
          ]
        }
      ]
    },
    {
      "cell_type": "code",
      "source": [
        "str =\"Hello dear,I am very good, I am very nice, I am wow\"\n",
        "print(str.replace(\"I am\", \"We are\",2))"
      ],
      "metadata": {
        "colab": {
          "base_uri": "https://localhost:8080/",
          "height": 0
        },
        "id": "TAQBKSU9Bl14",
        "outputId": "0124c5cb-99bc-4936-f67c-077bfaffe863"
      },
      "execution_count": 15,
      "outputs": [
        {
          "output_type": "stream",
          "name": "stdout",
          "text": [
            "Hello dear,We are very good, We are very nice, I am wow\n"
          ]
        }
      ]
    },
    {
      "cell_type": "code",
      "source": [
        "#Escape Character\n",
        "print(\"Hello \\n Vishwa\")"
      ],
      "metadata": {
        "colab": {
          "base_uri": "https://localhost:8080/",
          "height": 0
        },
        "id": "v1WKOU2NCVa3",
        "outputId": "3869c38b-0123-4bde-e637-22c383412631"
      },
      "execution_count": 16,
      "outputs": [
        {
          "output_type": "stream",
          "name": "stdout",
          "text": [
            "Hello \n",
            " Vishwa\n"
          ]
        }
      ]
    },
    {
      "cell_type": "code",
      "source": [
        "print(\"vishwa\\tmohan\")"
      ],
      "metadata": {
        "colab": {
          "base_uri": "https://localhost:8080/",
          "height": 0
        },
        "id": "8PM_LZ8xCpEH",
        "outputId": "151ef1fd-8c4c-4c34-b553-1a55532f174e"
      },
      "execution_count": 17,
      "outputs": [
        {
          "output_type": "stream",
          "name": "stdout",
          "text": [
            "vishwa\tmohan\n"
          ]
        }
      ]
    },
    {
      "cell_type": "code",
      "source": [
        "print(\"vishwa \\\"mohan\\\"\")"
      ],
      "metadata": {
        "colab": {
          "base_uri": "https://localhost:8080/",
          "height": 0
        },
        "id": "3MsbCm8SC3tE",
        "outputId": "49328944-374e-442e-f9c5-37271f700cf1"
      },
      "execution_count": 18,
      "outputs": [
        {
          "output_type": "stream",
          "name": "stdout",
          "text": [
            "vishwa \"mohan\"\n"
          ]
        }
      ]
    }
  ]
}