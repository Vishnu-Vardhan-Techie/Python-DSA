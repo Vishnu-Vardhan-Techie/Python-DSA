{
  "nbformat": 4,
  "nbformat_minor": 0,
  "metadata": {
    "colab": {
      "provenance": [],
      "authorship_tag": "ABX9TyOPI1NyLXKy6QK59iYhakFI",
      "include_colab_link": true
    },
    "kernelspec": {
      "name": "python3",
      "display_name": "Python 3"
    },
    "language_info": {
      "name": "python"
    }
  },
  "cells": [
    {
      "cell_type": "markdown",
      "metadata": {
        "id": "view-in-github",
        "colab_type": "text"
      },
      "source": [
        "<a href=\"https://colab.research.google.com/github/Vishnu-Vardhan-Techie/Python-DSA/blob/main/Conditions.ipynb\" target=\"_parent\"><img src=\"https://colab.research.google.com/assets/colab-badge.svg\" alt=\"Open In Colab\"/></a>"
      ]
    },
    {
      "cell_type": "markdown",
      "source": [
        "1. Write a program to display the appropriate message as per the color of signal(RED-Stop/Yellow-Stay/Green-Go) at the road crossing."
      ],
      "metadata": {
        "id": "kgacs7uv4iWV"
      }
    },
    {
      "cell_type": "code",
      "source": [
        "signal = input(\"Enter the color :\")\n",
        "if signal == \"RED\" or signal == \"red\":\n",
        "  print('STOP')\n",
        "if signal == \"YELLOW\" or signal == \"yellow\":\n",
        "  print('Stay')\n",
        "if signal == \"GREEN\" or signal == \"green\":\n",
        "  print('Go')"
      ],
      "metadata": {
        "colab": {
          "base_uri": "https://localhost:8080/"
        },
        "id": "GNXWKPNs4rTo",
        "outputId": "86f68538-0529-4b7c-f8c5-2e57c7a943f8"
      },
      "execution_count": 15,
      "outputs": [
        {
          "output_type": "stream",
          "name": "stdout",
          "text": [
            "Enter the color :GREEN\n",
            "Go\n"
          ]
        }
      ]
    },
    {
      "cell_type": "markdown",
      "source": [
        "2. Write a program to create a simple calculator performing only four basic operations(+,-,/,*) ."
      ],
      "metadata": {
        "id": "cltfqG9r58tB"
      }
    },
    {
      "cell_type": "code",
      "source": [
        "  result = 0\n",
        "  val1 = float(input(\"Enter Value 1 :\"))\n",
        "  val2 = float(input(\"Enter value 2 :\"))\n",
        "  op = input(\"Enter any one of the operator(+,*,-,/) :\")\n",
        "  if op =='+':\n",
        "    result = val1 + val2\n",
        "  elif op =='-':\n",
        "    if val2 > val1:\n",
        "      result = val2 - val1\n",
        "    else:\n",
        "      result = val1 - val2\n",
        "  elif op =='*':\n",
        "    result = val1 * val2\n",
        "  elif op =='/':\n",
        "    if val2 == 0:\n",
        "      print(\"Error! Division by Zero is not allowed. Program terminated.\")\n",
        "    else:\n",
        "      result = val1 / val2\n",
        "  else:\n",
        "    print(\"Invalid Operator. Program terminated\")\n",
        "  print(\"The result is\", result)\n"
      ],
      "metadata": {
        "colab": {
          "base_uri": "https://localhost:8080/"
        },
        "id": "-Aa06Q8v5x6q",
        "outputId": "2d10b72c-9e67-42d9-a633-945fa40ac825"
      },
      "execution_count": 17,
      "outputs": [
        {
          "output_type": "stream",
          "name": "stdout",
          "text": [
            "Enter Value 1 :20\n",
            "Enter value 2 :10\n",
            "Enter any one of the operator(+,*,-,/) :+\n",
            "The result is 30.0\n"
          ]
        }
      ]
    },
    {
      "cell_type": "markdown",
      "source": [
        "3. Write a program to find the larger of the three pre-specified numbers using ternary operators."
      ],
      "metadata": {
        "id": "WDjhxvuO_9F9"
      }
    },
    {
      "cell_type": "code",
      "source": [
        "num1=20\n",
        "num2=30\n",
        "num3=40\n",
        "temp1 = (num1 if num1>num2 else num2)\n",
        "temp2 = (num2 if num2>num3 else num3)\n",
        "larger_num = temp1 if temp1>temp2 else temp2\n",
        "print(larger_num)"
      ],
      "metadata": {
        "colab": {
          "base_uri": "https://localhost:8080/"
        },
        "id": "TClEULgy_8LN",
        "outputId": "c39d51c8-8251-480c-ff6b-a5a3edf10579"
      },
      "execution_count": 18,
      "outputs": [
        {
          "output_type": "stream",
          "name": "stdout",
          "text": [
            "40\n"
          ]
        }
      ]
    },
    {
      "cell_type": "markdown",
      "source": [
        "4. Write a program to find the factors of a whole number using a while loop."
      ],
      "metadata": {
        "id": "OLqy4bygCul_"
      }
    },
    {
      "cell_type": "code",
      "source": [
        "num = int(input(\"Enter a number to find it factor :\"))\n",
        "print(1,  end =' ')\n",
        "factor = 2\n",
        "while factor <= num/2:\n",
        "  if num % factor == 0:\n",
        "    print(factor, end=' ')\n",
        "  factor += 1\n",
        "print(num, end=' ')"
      ],
      "metadata": {
        "colab": {
          "base_uri": "https://localhost:8080/"
        },
        "id": "5eaxcHVfCs8G",
        "outputId": "9a0b3ed0-f321-4d8e-875c-a512fd24697c"
      },
      "execution_count": 20,
      "outputs": [
        {
          "output_type": "stream",
          "name": "stdout",
          "text": [
            "Enter a number to find it factor :12\n",
            "1 2 3 4 6 12 "
          ]
        }
      ]
    },
    {
      "cell_type": "markdown",
      "source": [
        "5. Write a program to find the sum of all the positive numbers entered by the user. As soon as the user enters a negative number, stop taking in any further input from the user and display the sum."
      ],
      "metadata": {
        "id": "Lzl6hE_XLdXn"
      }
    },
    {
      "cell_type": "code",
      "source": [
        "entry = 0\n",
        "sum1 =0\n",
        "print(\"Enter the numbers to find their sum, negative numbers ends the loop:\")\n",
        "while True:\n",
        "  entry=int(input(\"Enter the number :\"))\n",
        "  if (entry < 0):\n",
        "    break\n",
        "  sum1 += entry\n",
        "print(\"Sum is :\", sum1)"
      ],
      "metadata": {
        "colab": {
          "base_uri": "https://localhost:8080/"
        },
        "id": "nVwHrc7zLbl8",
        "outputId": "e2ea3e98-b19a-4f62-f4d4-8bcf66174c3d"
      },
      "execution_count": 21,
      "outputs": [
        {
          "output_type": "stream",
          "name": "stdout",
          "text": [
            "Enter the numbers to find their sum, negative numbers ends the loop:\n",
            "Enter the number :10\n",
            "Enter the number :8\n",
            "Enter the number :6\n",
            "Enter the number :4\n",
            "Enter the number :2\n",
            "Enter the number :-2\n",
            "Sum is : 30\n"
          ]
        }
      ]
    },
    {
      "cell_type": "markdown",
      "source": [
        "6. Write a program to find prime numbers between 2 to 100 using nested for loops"
      ],
      "metadata": {
        "id": "u1o_1bLiNt6I"
      }
    },
    {
      "cell_type": "code",
      "source": [
        "num=int(input(\"Enter the number to be checked :\"))\n",
        "flag = 0\n",
        "if num > 1:\n",
        "  for i in range(2, int(num/2)):\n",
        "    if (num % i == 0):\n",
        "      flag = 1\n",
        "      break\n",
        "  if flag == 1:\n",
        "    print(num, \"is not a prime number\");\n",
        "  else:\n",
        "    print(num, \"is a prime number\");"
      ],
      "metadata": {
        "colab": {
          "base_uri": "https://localhost:8080/"
        },
        "id": "ZcOXXVj3Ns2W",
        "outputId": "820d3b76-842d-48d5-b9c8-a94ce6538969"
      },
      "execution_count": 22,
      "outputs": [
        {
          "output_type": "stream",
          "name": "stdout",
          "text": [
            "Enter the number to be checked :11\n",
            "11 is a prime number\n"
          ]
        }
      ]
    },
    {
      "cell_type": "markdown",
      "source": [
        "7. Write the programs that has options to Accept the marks of the student in five major subjects and display the same.\n",
        " 1. Calculate the sum of the marks of all subjects.\n",
        " 2. Divide the total marks by number of subjects (i.e. 5), calculate percentage = total marks/5 and display the percentage.\n",
        " 3. Find the grade of the student as per the following criteria . Hint: Use Match & case for this:"
      ],
      "metadata": {
        "id": "rgvB-ueNfxbO"
      }
    },
    {
      "cell_type": "code",
      "source": [
        "marks=[]\n",
        "print(\"Enter marks for five major subject :\")\n",
        "for i in range(5):\n",
        "  subject=input(f\"Enter the mark subject {i+1} :\")\n",
        "  marks.append(float(subject))\n",
        "sum_of_marks=sum(marks)\n",
        "print(sum_of_marks)\n"
      ],
      "metadata": {
        "colab": {
          "base_uri": "https://localhost:8080/"
        },
        "id": "0SMaO2_ofwTJ",
        "outputId": "b2f04ef9-4fd4-4be2-b881-1733d9277475"
      },
      "execution_count": 23,
      "outputs": [
        {
          "output_type": "stream",
          "name": "stdout",
          "text": [
            "Enter marks for five major subject :\n",
            "Enter the mark subject 1 :98\n",
            "Enter the mark subject 2 :99\n",
            "Enter the mark subject 3 :99\n",
            "Enter the mark subject 4 :100\n",
            "Enter the mark subject 5 :100\n",
            "496.0\n"
          ]
        }
      ]
    },
    {
      "cell_type": "code",
      "source": [
        "total_marks = sum_of_marks\n",
        "percentage = total_marks/5\n",
        "print(\"Total marks:\", total_marks)\n",
        "print(\"Percentage:\", percentage)"
      ],
      "metadata": {
        "colab": {
          "base_uri": "https://localhost:8080/"
        },
        "id": "E9iJk5sNkfUO",
        "outputId": "1dae7b25-3570-4f8a-9d02-b70743c0d80e"
      },
      "execution_count": 24,
      "outputs": [
        {
          "output_type": "stream",
          "name": "stdout",
          "text": [
            "Total marks: 496.0\n",
            "Percentage: 99.2\n"
          ]
        }
      ]
    },
    {
      "cell_type": "code",
      "source": [
        "match percentage:\n",
        "  case p_1 if p_1 >= 85:\n",
        "       print(\"A Grade\")\n",
        "  case p_2 if p_2 > 65 and p_2 <= 75:\n",
        "       print(\"B Grade\")\n",
        "  case p_3 if p_3 > 55 and p_3 <= 65:\n",
        "       print(\"C Grade\")\n",
        "  case p_4 if p_4 > 45 and p_4 <= 55:\n",
        "       print(\"D Grade\")\n",
        "  case _:\n",
        "       print(\"Reappear\")\n"
      ],
      "metadata": {
        "colab": {
          "base_uri": "https://localhost:8080/"
        },
        "id": "K7otMOQenbXi",
        "outputId": "da21301f-75f8-43a7-9df2-cf1694d708b1"
      },
      "execution_count": 25,
      "outputs": [
        {
          "output_type": "stream",
          "name": "stdout",
          "text": [
            "A Grade\n"
          ]
        }
      ]
    },
    {
      "cell_type": "markdown",
      "source": [
        "8. Write a program for VIBGYOR Spectrum based on their Wavelength using"
      ],
      "metadata": {
        "id": "ePs8Mpiirwyd"
      }
    },
    {
      "cell_type": "code",
      "source": [
        "wavelength = float(input(\"Enter the wavelength (in nm) : \"))\n",
        "if 400.0 <= wavelength <= 440.0:\n",
        "  color='Violet'\n",
        "elif 440.0 < wavelength <= 500.0:\n",
        "  color='Indigo'\n",
        "elif 500.0 < wavelength <= 520.0:\n",
        "  color='Blue'\n",
        "elif 520.0 < wavelength <= 560.0:\n",
        "  color='Green'\n",
        "elif 560.0 < wavelength <= 600.0:\n",
        "  color='Yellow'\n",
        "elif 600.0 < wavelength <= 640.0:\n",
        "  color='Orange'\n",
        "elif 640.0 < wavelength <= 700.0:\n",
        "  color='Red'\n",
        "else:\n",
        "  color=None\n",
        "\n",
        "if color:\n",
        "  print(f\"The color for wavelength {wavelength}nm is: {color}\")\n",
        "else:\n",
        "  print(\"No color found for entered wavelength\")"
      ],
      "metadata": {
        "colab": {
          "base_uri": "https://localhost:8080/"
        },
        "id": "kUj6L_ZjAu1w",
        "outputId": "c0947a22-3693-4a16-93c3-e8c8a9d71517"
      },
      "execution_count": 12,
      "outputs": [
        {
          "output_type": "stream",
          "name": "stdout",
          "text": [
            "Enter the wavelength (in nm) : 632\n",
            "The color for wavelength 632.0nm is: Orange\n"
          ]
        }
      ]
    },
    {
      "cell_type": "markdown",
      "source": [
        "9. Consider the gravitational interactions between the Earth, Moon, and Sun in our solar system.\n",
        "Given: mass_earth = 5.972e24 # Mass of Earth in kilograms mass_moon = 7.34767309e22 # Mass of Moon in kilograms mass_sun = 1.989e30 # Mass of Sun in kilograms\n",
        "\n",
        " distance_earth_sun = 1.496e11 # Average distance between Earth and Sun in meters distance_moon_earth = 3.844e8 # Average distance between Moon and Earth in meters\n",
        "\n",
        " Tasks:\n",
        "\n",
        " Calculate the gravitational force between the Earth and the Sun.\n",
        "Calculate the gravitational force between the Moon and the Earth.\n",
        "Compare the calculated forces to determine which gravitational force is stronger.Explain which celestial body (Earth or Moon) is more attracted to the other based on the comparison."
      ],
      "metadata": {
        "id": "Oxs2bK91D6It"
      }
    },
    {
      "cell_type": "code",
      "source": [
        "mass_earth=5.972e24\n",
        "mass_moon=7.34767309e22\n",
        "mass_sun=1.989e30\n",
        "\n",
        "distance_earth_sun=.1496e11\n",
        "distance_moon_earth=3.844e8\n",
        "\n",
        "G=6.67430e-11\n",
        "\n",
        "force_earth_sun = G * (mass_earth * mass_sun) / (distance_earth_sun ** 2)\n",
        "force_moon_earth = G * (mass_moon * mass_earth) / (distance_moon_earth ** 2)\n",
        "\n",
        "print(f\"The gravitational force between the earth the sun is : \", force_earth_sun, \"N\")\n",
        "print(f\"The gravitational force between the earht the sun is : \", force_moon_earth, \"N\")\n",
        "\n",
        "if force_earth_sun > force_moon_earth:\n",
        "  print(\"The Gravitational force between sun and earth is stronger, so earth is more attracted to the sun\")\n",
        "else:\n",
        "  print(\"The Gravitational force between moon and earth is stronger, so moon is more attracted to the earth\")"
      ],
      "metadata": {
        "colab": {
          "base_uri": "https://localhost:8080/"
        },
        "id": "zweg5fEhD5Xa",
        "outputId": "e4f266ec-88c0-4647-a635-cdab24dfec45"
      },
      "execution_count": 14,
      "outputs": [
        {
          "output_type": "stream",
          "name": "stdout",
          "text": [
            "The gravitational force between the earth the sun is :  3.542396081368497e+24 N\n",
            "The gravitational force between the earht the sun is :  1.9820225456526813e+20 N\n",
            "The Gravitational force between sun and earth is stronger, so earth is more attracted to the sun\n"
          ]
        }
      ]
    },
    {
      "cell_type": "markdown",
      "source": [
        "10. Write a program to make a to-do list application that skips completed tasks when displaying the list using the continue statement."
      ],
      "metadata": {
        "id": "_GntVdfxLhXZ"
      }
    },
    {
      "cell_type": "code",
      "source": [
        "todo_list=[\n",
        "    {\"task\":\"Learning python\", \"completed\":True},\n",
        "    {\"task\":\"Making notes\", \"completed\":False},\n",
        "    {\"task\":\"Practice coding\", \"completed\":False},\n",
        "    {\"task\":\"Review notes\", \"completed\":False}\n",
        "]\n",
        "print(\"To-do list:\")\n",
        "print(\"-----------\")\n",
        "for task in todo_list:\n",
        "  if task[\"completed\"]:\n",
        "    continue\n",
        "  print('*', task[\"task\"])"
      ],
      "metadata": {
        "colab": {
          "base_uri": "https://localhost:8080/"
        },
        "id": "w0zr-7W8LgN6",
        "outputId": "27247ed8-6896-4892-e1ba-107f361ae00b"
      },
      "execution_count": 28,
      "outputs": [
        {
          "output_type": "stream",
          "name": "stdout",
          "text": [
            "To-do list:\n",
            "-----------\n",
            "* Making notes\n",
            "* Practice coding\n",
            "* Review notes\n"
          ]
        }
      ]
    }
  ]
}